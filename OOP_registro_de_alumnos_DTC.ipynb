{
 "cells": [
  {
   "cell_type": "markdown",
   "metadata": {},
   "source": [
    "# Programa para el resgistro de alumnos, docentes y materias"
   ]
  },
  {
   "cell_type": "markdown",
   "metadata": {},
   "source": [
    "El presente código crea una clase que nos permite hacer el registro, eliminación y visualización de materias, profesores y alumnos.\n",
    "Se crea una superclase llamada Persona, a partir de la cual hereda sus atributos a la clase profesor y alumnos."
   ]
  },
  {
   "cell_type": "markdown",
   "metadata": {},
   "source": [
    "Se definen las variables que contendrán los datos ingresados en las clases"
   ]
  },
  {
   "cell_type": "code",
   "execution_count": 1,
   "metadata": {},
   "outputs": [],
   "source": [
    "from typing import List, TypeVar, Dict\n",
    "alumnos_d: Dict[int, List[str]] = {}\n",
    "profesores_d: Dict[int, List[str]] = {}\n",
    "materias_d: Dict[str, List[str]] = {}\n",
    "# Definir un tipo genérico T\n",
    "T = TypeVar('T')"
   ]
  },
  {
   "cell_type": "markdown",
   "metadata": {},
   "source": [
    "Se define la clase \"Persona\" para que herede sus atributos a la subclase Alumnos y Profesor."
   ]
  },
  {
   "cell_type": "code",
   "execution_count": 2,
   "metadata": {},
   "outputs": [],
   "source": [
    "class Persona():\n",
    "    def __init__(self, nombre, apellido):\n",
    "        self._nombre = str(nombre).upper()\n",
    "        self._apellido = str(apellido).upper()\n",
    "    \n",
    "    #Se crean los métodos para acceder a los atributos privados.\n",
    "    @property #Se implementa el encapsulamiento.\n",
    "    def get_nombre(self):\n",
    "        return self._nombre\n",
    "    \n",
    "    @property\n",
    "    def get_apellido(self):\n",
    "        return self._apellido"
   ]
  },
  {
   "cell_type": "markdown",
   "metadata": {},
   "source": [
    "Se define la clase Alumno"
   ]
  },
  {
   "cell_type": "code",
   "execution_count": 3,
   "metadata": {},
   "outputs": [],
   "source": [
    "class Alumnos(Persona):\n",
    "    def __init__(self, nombre, apellido): #Se definen los atributos\n",
    "        super().__init__(nombre, apellido) #Se implementa la herencia en la clase \"Alumnos\".\n",
    "        self.no_de_control_escolar = int\n",
    "        self.edad = int\n",
    "        self.sexo = str\n",
    "        self.semestre = int\n",
    "        self.materias = list\n",
    "\n",
    "    def registrar_alumno(self):\n",
    "        número_de_registros = int(input(\"Ingrese el número de registros que desea hacer: \")) #Se establece la multiplicidad de la clase.\n",
    "        #Dado que la multiplicidad es de \"0 a muchos\", el programa le pide al usuario que ingrese el número de registros que desea hacer.\n",
    "        for n in range(número_de_registros):\n",
    "            alumno = Persona(input(f\"Ingrese el primer nombre del alumno {n+1}: \"), input(f\"Ingrese el primer apellido del alumno {n+1}: \")) #Se aplica la herencia.\n",
    "            self.nombre = alumno.get_nombre #Se obtienen los datos privados de la clase madre (Persona).\n",
    "            self.apellido = alumno.get_apellido #Se asgnan los atributos a los valores de la clase alumno.\n",
    "            self.no_de_control_escolar = int(input(f\"Ingrese el número de control escolar {n+1}: \"))\n",
    "            self.edad = int(input(f\"Ingrese la edad del alumno {n+1}: \"))\n",
    "            self.sexo = str(input(f\"Ingrese el sexo del alumno {n+1}: \"))\n",
    "            self.semestre = int(input(f\"Ingrese el semestre del alumno {n+1} con número: \"))\n",
    "            self.materias = input(f\"Ingrese las materias que el alumno {n+1} lleva (separadas por comas): \").upper().split(\",\")\n",
    "\n",
    "            print(\"Actualmente se tienen las siguientes materias registradas:\") #Se establece la relación entre la clase Alumnos y la clase Materias.\n",
    "            #Dado que la relación entre las clases de agregación, el programa no limitará el registro de un alumno si la materia que se le será\n",
    "            #asignada no está previamente registrada en la variable materias_d.\n",
    "            print(materias_d.items())\n",
    "            pregunta = int(input(\"¿Desea adicionar alguna de las materias antes mostradas?\\n\"\n",
    "                                 \"Presione '1' para adicionar una de las materias.\\n\"\n",
    "                                 \"Presione '2' para no adicionar una de las materias. \\n\"\n",
    "                                 \"Ingrese la opción seleccionada: \"))\n",
    "            if pregunta == 1:\n",
    "                materia = int(input(\"¿Qué materia desea adicionar?\\n\"\n",
    "                                    \"Tome en cuenta que para seleccionar alguna de las materias debe presionar el número que le corresponda.\\n\"\n",
    "                                    \"Comenzado del 1 al n, de izquierda a derecha.\\n\"\n",
    "                                    \"Seleccione el número en que se encuntra la materia que desea adicionar: \")) #Facilita la comprensión al usuario.\n",
    "                índice = materia-1 #Se transforma el número elegido a la numeración nativa de Python (la cual comienza a partir del 0).\n",
    "                materia_elegida = str(list(materias_d.keys())[índice]) #Se busca la materia elegida en el diccionario disponible.\n",
    "                self.materias.append(materia_elegida)\n",
    "            elif pregunta == 2:\n",
    "                pass\n",
    "            else:\n",
    "                print(\"La opción seleccionada no se encuentra disponible.\")\n",
    "                pass\n",
    "\n",
    "            registro = {self.no_de_control_escolar: [self.nombre, self.apellido, self.edad, self.sexo, self.semestre, self.materias]} #Se define la estructura que el diccionario tomará.\n",
    "            alumnos_d.update(registro) #Se añaden los registros creados al diccionario global.\n",
    "        print(\"Registros realizados con éxito.\")\n",
    "\n",
    "    def eliminar_registro(self):\n",
    "        clave = int(input(\"Ingrese el número de control escolar que desea eliminar: \"))\n",
    "        alumnos_d.pop(clave, \"El número de control escolar ingresado no se encuentra en los registros.\") #Se elimina el resgistro deseado.\n",
    "        print(\"Eliminación realizada con éxito.\")"
   ]
  },
  {
   "cell_type": "markdown",
   "metadata": {},
   "source": [
    "Se define la clase Profesor"
   ]
  },
  {
   "cell_type": "code",
   "execution_count": 4,
   "metadata": {},
   "outputs": [],
   "source": [
    "class Profesor(Persona):\n",
    "    def __init__(self, nombre, apellido): #Se definen los atributos\n",
    "        super().__init__(nombre, apellido) #Se implementa la herencia en la clase \"Profesor\".\n",
    "        self.edad = int\n",
    "        self.sexo = str\n",
    "        self.título_profesión = str\n",
    "        self.cédula_profesional = str\n",
    "\n",
    "    def registrar_profesor(self):\n",
    "        número_de_registros = int(input(\"Ingrese el número de registros que desea hacer: \")) #Se establece la multiplicidad de la clase.\n",
    "        #Dado que la multiplicidad es de \"0 a muchos\", el programa le pide al usuario que ingrese el número de registros que desea hacer.\n",
    "        for n in range(número_de_registros):\n",
    "            nombre = input(f\"Ingrese el primer nombre del profesor {n +1}: \") #Se solicitan los atributos requeridos por la clase Persona.\n",
    "            apellido = input(f\"Ingrese el primer apellido del profesor {n+1}: \")\n",
    "            profesor = Persona(nombre, apellido) #Se aplica la herencia.\n",
    "            self.nombre = profesor.get_nombre #Se obtienen los datos privados de la clase madre (Persona).\n",
    "            self.apellido = profesor.get_apellido #Se asgnan los atributos a los valores de la clase profesor.\n",
    "            self.edad = int(input(f\"Ingrese la edad del profesor {n+1}: \"))\n",
    "            self.sexo = str(input(f\"Ingrese el sexo del profesor {n+1}: \")).upper()\n",
    "            self.título_profesión = str(input(f\"Ingrese el título o la profesión del profesor {n+1}: \")).upper()\n",
    "            self.cédula_profesional = int(input(f\"Ingrese el número de cédula profesional del profesor {n+1}: \"))\n",
    "            registro = {self.cédula_profesional: [self.nombre, self.apellido, self.edad, self.sexo, self.título_profesión]} #Se define la estructura de los datos.\n",
    "            profesores_d.update(registro) #Se añaden los registros al diccionario global.\n",
    "        print(\"Registros realizados con éxito.\")\n",
    "\n",
    "    def eliminar_registro(self):\n",
    "        clave = int(input(\"Ingrese el número de cédula profesional que desea eliminar: \"))\n",
    "        profesores_d.pop(clave, \"El número de control escolar ingresado no se encuentra en los registros.\")\n",
    "        print(\"Eliminación realizada con éxito.\")"
   ]
  },
  {
   "cell_type": "markdown",
   "metadata": {},
   "source": [
    "Se define la clase Materia"
   ]
  },
  {
   "cell_type": "code",
   "execution_count": 5,
   "metadata": {},
   "outputs": [],
   "source": [
    "class Materia():\n",
    "    def __init__(self): #Se definen los atributos\n",
    "        self.nombre = str\n",
    "        self.no_de_créditos = int\n",
    "        self.profesor = str\n",
    "\n",
    "    def registrar_materia(self):\n",
    "        if len(profesores_d) == 0: #Se establece la relación entre la clase Materia y la clase Profesor.\n",
    "            #Dado que la relación entre las clases es de composición, el registro de una materia será limitido si\n",
    "            #previamente no se tienen registros de profesores.\n",
    "            print(\"Para realizar el registro de una materia se requiere el registro de al menos un profesor.\")\n",
    "        else:\n",
    "            número_de_registros = int(input(\"Ingrese el número de registros que desea hacer: \")) #Se establece la multiplicidad de la clase.\n",
    "            #Dado que la multiplicidad es de \"0 a muchos\", el programa le pide al usuario que ingrese el número de registros que desea hacer.\n",
    "            for n in range(número_de_registros):\n",
    "                self.nombre = str(input(f\"Ingrese el nombre de la materia {n+1}: \")).upper()\n",
    "                self.no_de_créditos = int(input(f\"Ingrese el número de créditos de la materia {n+1}: \"))\n",
    "                \n",
    "                print(\"Los profesores disponibles para impartir la materia son:\")\n",
    "                print(profesores_d.items())\n",
    "\n",
    "                selección = int(input(f\"Ingrese el número de cédula profesional del profesor que impartirá la materia {n+1}: \"))\n",
    "                nombre = profesores_d[selección][0] #Se extrae el nombre del profesor del diccionario de profesores.\n",
    "                apellido = profesores_d[selección][1] #Se extrae el apellido del profesor del diccionario de profesores.\n",
    "                self.profesor = nombre + apellido #Se combina el nombre del profesor elegido.\n",
    "                \n",
    "                registro = {self.nombre: [self.no_de_créditos, self.profesor]} #Se define la estructura del diccionario.\n",
    "                materias_d.update(registro) #Se actualiza el diccionario global.\n",
    "\n",
    "    def eliminar_registro(self):\n",
    "        clave = str(input(\"Ingrese el nombre de la materia que desea eliminar: \")).upper()\n",
    "        materias_d.pop(clave, \"El número de control escolar ingresado no se encuentra en los registros.\")\n",
    "        print(\"Eliminación realizada con éxito.\")"
   ]
  },
  {
   "cell_type": "markdown",
   "metadata": {},
   "source": [
    "Se define la función main, con la cual el usuario podrá interactuar con el programa"
   ]
  },
  {
   "cell_type": "code",
   "execution_count": 6,
   "metadata": {},
   "outputs": [
    {
     "name": "stdout",
     "output_type": "stream",
     "text": [
      "¡Gracias por utilizar el sistema!\n",
      "¡Gracias por utilizar el sistema!\n"
     ]
    }
   ],
   "source": [
    "def main():\n",
    "    alumnos = Alumnos(\"\", \"\") #Se crea el objeto de la clase Alumnos.\n",
    "    profesores = Profesor(\"\", \"\") #Se crea el objeto de la clase Profesor.\n",
    "    materias = Materia() ##Se crea el objeto de la clase Materia.\n",
    "\n",
    "    while True:\n",
    "        opción = int(input(\"¿Qué tipo de operación desea realizar?\\n\"\n",
    "                           \"Presione '1' para realizar registros.\\n\"\n",
    "                           \"Presione '2' para eliminar registros.\\n\"\n",
    "                           \"Presione '3' para visualizar registros.\\n\"\n",
    "                           \"Presione '4' para cerrar el menú.\\n\"\n",
    "                           \"Ingrese la opción seleccionada: \")) #Menú principal\n",
    "        \n",
    "        if opción == 1:\n",
    "            opción_1 = int(input(\"¿Qué tipo de registro desea realizar?\\n\"\n",
    "                                 \"Presione '1' para registro de alumnos.\\n\"\n",
    "                                 \"Presione '2' para registro de profesores.\\n\"\n",
    "                                 \"Presione '3' para registro de materias.\\n\"\n",
    "                                 \"Presione '4' para regresar al menú principal.\\n\"\n",
    "                                 \"Ingrese la opción seleccionada: \"))\n",
    "            if opción_1 == 1:\n",
    "                alumnos.registrar_alumno()\n",
    "                continue #Permite que el bucle se reinicie, regresando al menu principal.\n",
    "            elif opción_1 == 2:\n",
    "                profesores.registrar_profesor()\n",
    "                continue\n",
    "            elif opción_1 == 3:\n",
    "                materias.registrar_materia()\n",
    "                continue\n",
    "            elif opción_1 == 4:\n",
    "                continue\n",
    "            else:\n",
    "                print(\"La opción seleccionada no se encuentra disponible.\")\n",
    "                continue\n",
    "        elif opción == 2:\n",
    "            opción_2 = int(input(\"¿Qué tipo de registro desea eliminar?\\n\"\n",
    "                                 \"Presione '1' para eliminar registro de alumnos.\\n\"\n",
    "                                 \"Presione '2' para eliminar registro de profesores.\\n\"\n",
    "                                 \"Presione '3' para eliminar registro de materias.\\n\"\n",
    "                                 \"Presione '4' para regresar al menú principal.\\n\"\n",
    "                                 \"Ingrese la opción seleccionada: \"))\n",
    "            if opción_2 == 1:\n",
    "                alumnos.eliminar_registro()\n",
    "                continue\n",
    "            elif opción_2 == 2:\n",
    "                profesores.eliminar_registro()\n",
    "                continue\n",
    "            elif opción_2 == 3:\n",
    "                materias.eliminar_registro()\n",
    "                continue\n",
    "            elif opción_2 == 4:\n",
    "                continue\n",
    "            else:\n",
    "                print(\"La opción seleccionada no se encuentra disponible.\")\n",
    "                continue\n",
    "        elif opción == 3: #Permite la visualización de los registros.\n",
    "            opción_3 = int(input(\"¿Qué tipo de registro desea visualizar?\\n\"\n",
    "                                 \"Presione '1' para visualizar registro de alumnos.\\n\"\n",
    "                                 \"Presione '2' para visualizar registro de profesores.\\n\"\n",
    "                                 \"Presione '3' para visualizar registro de materias.\\n\"\n",
    "                                 \"Presione '4' para regresar al menú principal.\\n\"\n",
    "                                 \"Ingrese la opción seleccionada: \"))\n",
    "            if opción_3 == 1: #Evalúa la opción seleccionada por el usario.\n",
    "                llave = int(input(\"Ingrese número de control escolar del estudiante: \")) #Solicita la clave del diccionario.\n",
    "                visualizar = alumnos_d.get(llave, \"El valor buscado no se encuentra en los registros actuales.\") #Busca la clave y define un valor a imprimir en caso de no encontrarla.\n",
    "                print(visualizar) #muestra la clave.\n",
    "                continue #Regresa al usuario al menú principal.\n",
    "            elif opción_3 == 2:\n",
    "                llave = int(input(\"Ingrese número de cédula profesional del profesor: \"))\n",
    "                visualizar = profesores_d.get(llave, \"El valor buscado no se encuentra en los registros actuales.\")\n",
    "                print(visualizar)\n",
    "                continue #Regresa al usuario al menú principal.\n",
    "            elif opción_3 == 3:\n",
    "                llave = str(input(\"Ingrese el nombre de la materia: \")).upper()\n",
    "                visualizar = materias_d.get(llave, \"El valor buscado no se encuentra en los registros actuales.\")\n",
    "                print(visualizar)\n",
    "                continue #Regresa al usuario al menú principal.\n",
    "            elif opción_3 == 4:\n",
    "                continue #Regresa al usuario al menú principal.\n",
    "            else:\n",
    "                print(\"La opción seleccionada no se encuentra disponible.\")\n",
    "                continue #Regresa al usuario al menú principal.\n",
    "        elif opción == 4:\n",
    "            print(\"¡Gracias por utilizar el sistema!\")\n",
    "            break\n",
    "        else:\n",
    "            print(\"La opción seleccionada no se encuentra disponible.\")\n",
    "            continue\n",
    "\n",
    "if __name__ == \"__main__\":\n",
    "    main()\n",
    "\n",
    "objeto = main() #Se prueba el código."
   ]
  }
 ],
 "metadata": {
  "kernelspec": {
   "display_name": "Python 3",
   "language": "python",
   "name": "python3"
  },
  "language_info": {
   "codemirror_mode": {
    "name": "ipython",
    "version": 3
   },
   "file_extension": ".py",
   "mimetype": "text/x-python",
   "name": "python",
   "nbconvert_exporter": "python",
   "pygments_lexer": "ipython3",
   "version": "3.11.3"
  }
 },
 "nbformat": 4,
 "nbformat_minor": 2
}
